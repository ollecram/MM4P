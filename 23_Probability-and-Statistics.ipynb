{
 "cells": [
  {
   "cell_type": "markdown",
   "metadata": {},
   "source": [
    "# Conditioned Probability and Bayes Formula"
   ]
  },
  {
   "cell_type": "markdown",
   "metadata": {},
   "source": [
    "## Notes on a generalization of example 23.1.3"
   ]
  },
  {
   "cell_type": "markdown",
   "metadata": {},
   "source": [
    "A private college wants to manage the admission of candidate students according to specific criteria to achieve various goals. \n",
    "Let assume each student is qualified by means of *admission tests* along different dimensions like \n",
    "- logical skills,\n",
    "- sport skills,\n",
    "- family income, \n",
    "- motivation.\n",
    "\n",
    "More specifically assume each student is receiving a numeric *score* along each dimension in the admission phase. \n",
    "Several groups (subsets of the set of all admitted students) can thus be formed using this information. \n",
    "For example, *for each dimension* $d$ the college administration might form 3 groups based on *two threshold values*: \n",
    "- $L_d$ including students who score below the low threshold,\n",
    "- $M_d$ including students who score between the low threshold and the high threshold,\n",
    "- $H_d$ including students who score above the high threshold.\n",
    "\n",
    "For example, the thresholds could be chosen so that *half* students belong to the central $M$ group, while the $L$ and $M$ groups take $1/4$ of the students each. In fact, as it will become clear in the following, it is exactly by controlling the relative proportion of students from the different groups that the overall performance can be influenced.     \n",
    "\n",
    "By the above method, each student belongs to exacly one group for any dimension. In order to establish efficient predictors of a student's performance the college records &ndash; for each group within each dimension &ndash; the number of students who successfully graduated and the number of those who did not.\n",
    "\n",
    "The first goal the college is willing to achieve with this approach is being able to predict the chances of a candidate to graduate, given its scores along one or more dimensions. The second goal is to determine the optimal balance in the relative sizes of the $3$ groups (along each dimension) so that *use of the college capacity is maximized* without too many students failing to graduate. \n",
    "\n",
    "\n"
   ]
  },
  {
   "cell_type": "markdown",
   "metadata": {},
   "source": [
    "### Data Collection\n",
    "In order to apply probabilistic reasoning to this problem we start by assuming that the relative sizes of the $3$ groups (along each dimension $d$) are known. By concentrating on just one dimension (e.g. $d=1$), if $N$ is the total number of students having graduated or having quit college, of which $N_X$ assigned to the group $X$ based on their admission score relative to the $X$-th dimension, we have \n",
    "\n",
    "$$P(L) + P(M) + P(H) = 1$$  \n",
    "\n",
    "where $P(L) = N_L / N$, $P(M) = N_M / N$ and $P(H) = N_H / N$. \n",
    "\n",
    "That is, we are using relative sizes to estimate the *probability* for a student to belong to one of the $3$ mutually exclusive groups associated to the chosen dimension (e.g. *logical skills*).\n",
    "\n",
    "Other data to be recorded &ndash; for each group &ndash; are the number of students who graduated and the number of those who did not graduate. So we assume the following data to be also available\n",
    "\n",
    "$$N^{G}_{L}, N^{\\tilde{G}}_{L}; (N^{G}_{L} + N^{\\tilde{G}}_{L} = N_L)$$  \n",
    "$$N^{G}_{M}, N^{\\tilde{G}}_{M}; (N^{G}_{M} + N^{\\tilde{G}}_{M} = N_M)$$  \n",
    "$$N^{G}_{H}, N^{\\tilde{G}}_{H}; (N^{G}_{H} + N^{\\tilde{G}}_{H} = N_H)$$  \n",
    "\n",
    "\n"
   ]
  },
  {
   "cell_type": "markdown",
   "metadata": {},
   "source": [
    "### Conditional Probabilities\n",
    "\n",
    "From the above numbers we can evaluate the *conditional probability* that a student graduate (or that she quit without a grade) given that she belongs to a given group. Indeed \n",
    "\n",
    "$$P(G|L) = \\frac{P(G \\cap L)}{P(L)} = \\frac{N^{G}_{L}}{N} \\cdot \\frac{N}{N_L} = \\frac{N^{G}_{L}}{N_L}$$\n",
    "\n",
    "$$P(G|M) = \\frac{P(G \\cap M)}{P(M)} = \\frac{N^{G}_{M}}{N} \\cdot \\frac{N}{N_M} = \\frac{N^{G}_{M}}{N_M}$$\n",
    "\n",
    "$$P(G|H) = \\frac{P(G \\cap H)}{P(H)} = \\frac{N^{G}_{H}}{N} \\cdot \\frac{N}{N_H} = \\frac{N^{G}_{H}}{N_H}$$\n",
    "\n",
    "\n",
    "Analogamente\n",
    "\n",
    "$$P(\\tilde{G}|L) = \\frac{N^{\\tilde{G}}_{L}}{N_L} = 1 - P(G|L)$$\n",
    "\n",
    "$$P(\\tilde{G}|M) = \\frac{N^{\\tilde{G}}_{M}}{N_M} = 1 - P(G|M)$$\n",
    "\n",
    "$$P(\\tilde{G}|H) = \\frac{N^{\\tilde{G}}_{N}}{N_H} = 1 - P(G|H)$$\n",
    "\n",
    "\n",
    "Given that $L$, $M$ and $H$ are mutually exclusive groups which cover the whole sample space we also have \n",
    "\n",
    "$$P(G) =  P(G|L) + P(G|M) + P(G|H) = 1 - P(\\tilde{G})$$\n",
    "$$P(\\tilde{G}) = P(\\tilde{G}|L) + P(\\tilde{G}|M) + P(\\tilde{G}|H) = 1 - P(G)$$\n"
   ]
  },
  {
   "cell_type": "markdown",
   "metadata": {},
   "source": [
    "### Controls\n",
    "Conditional probabilities computed in the previous section do not seem to offer much opportunities for control by the college administration, apart from considering improvements in the effectiveness of teaching that could impact a student's ability to do better given the group she belongs to.\n",
    "\n",
    "The only remaining handles are the *probabilities* $P(L)$, $P(M)$ and $P(H)$ which the college administration can enforce by imposing specific values to the percentage of students falling in each of the three groups. \n"
   ]
  },
  {
   "cell_type": "code",
   "execution_count": null,
   "metadata": {},
   "outputs": [],
   "source": []
  }
 ],
 "metadata": {
  "kernelspec": {
   "display_name": "Julia 1.1.0",
   "language": "julia",
   "name": "julia-1.1"
  },
  "language_info": {
   "file_extension": ".jl",
   "mimetype": "application/julia",
   "name": "julia",
   "version": "1.1.0"
  }
 },
 "nbformat": 4,
 "nbformat_minor": 2
}
