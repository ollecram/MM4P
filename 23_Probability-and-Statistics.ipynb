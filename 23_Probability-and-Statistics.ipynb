{
 "cells": [
  {
   "cell_type": "markdown",
   "metadata": {},
   "source": [
    "# 1. Conditional Probability"
   ]
  },
  {
   "cell_type": "markdown",
   "metadata": {},
   "source": [
    "## Notes about example 23.1.2\n",
    "I think this example is not appropriate to motivate the definition of *conditional probability* as it is finally presented by equation 23.9.\n",
    "The example starts by introducing $P(A, B)$ &ndash; to be read \"A *then* B\" &ndash; presumably with the intent to provide an intuitive interpretation of $P(B|A)$ which is then implicitly defined in 23.6 in terms of the former by asserting \n",
    "\n",
    "$$ P(A, B) = P(A) \\cdot P(B|A) $$\n",
    "\n",
    "This approach is confusing because it induces the reader to assume a causal and/or temporal dependency between the event $A$ and the event $B$. \n",
    "\n",
    "This is totally unnecessary. Indeed, probability is associated to *outcomes* of a *sample space* $S$, then logically extended to any *event* (any subset of $S$  is an event). Since $A \\cap B$ &ndash; given any two events $A$ and $B$ in $S$ &ndash; is an event, there is no logical difficulty in talking of the probability $P(A \\cap B)$ of $A \\cap B$, the main *ingredient* of the conventional definition, namely \n",
    "\n",
    "$$ P(B|A) = \\frac{P(B \\cap A)}{P(A)} $$\n",
    "\n",
    "When staring at the above definition, most people should have no problem understanding the numerator term of the right hand side, while getting an understanding of the scaling factor $P(A)$ in the denominator could take more time. I have found the most satisfying motivation for the above definition in the book *Introduction to Probability* by Grinstead and Snell. Here is what they say (see Example 4.3 in chapter 4):\n",
    "\n",
    "**In these examples we assigned a distribution function and then were given new\n",
    "information that determined a new sample space, consisting of the outcomes that\n",
    "are still possible, and caused us to assign a new distribution function to this space.\n",
    "We want to make formal the procedure carried out in these examples. Let\n",
    "$\\Omega = \\{\\omega_1, \\omega_2, . . . , \\omega_r\\}$ be the original sample space with distribution function \n",
    "$m(\\omega_j)$ assigned. Suppose we learn that the event E has occurred. We want to assign a new\n",
    "distribution function $m(\\omega_j|E)$ to $\\Omega$ to reflect this fact. \n",
    "Clearly, if a sample point $\\omega_j$ is not in E, we want $m(\\omega_j|E) = 0$. \n",
    "Moreover, in the absence of information to the contrary, it is reasonable to assume that \n",
    "the probabilities for $\\omega_k$ in $E$ should have the same relative magnitudes that they had before \n",
    "we learned that $E$ had occurred.**\n",
    "\n",
    "In other words, the numerator $P(B \\cap A)$ is the probability of the event $B \\cap A$ within the **original** sample space $S$. The denominator $P(A)$ scales that value to make it the probability of $B \\cap A$ within the **new** sample space &ndash; $S \\cap A$ &ndash; that must be adopted once it is known that $A$ has occurred.   \n"
   ]
  },
  {
   "cell_type": "markdown",
   "metadata": {},
   "source": [
    "## Notes and generalization of example 23.1.3"
   ]
  },
  {
   "cell_type": "markdown",
   "metadata": {},
   "source": [
    "A private college wants to manage the admission of candidate students according to specific criteria to achieve various goals. \n",
    "Let assume each student is qualified by means of *admission tests* along different dimensions like \n",
    "- logical skills,\n",
    "- sport skills,\n",
    "- family income, \n",
    "- motivation.\n",
    "\n",
    "More specifically assume each student is receiving a numeric *score* along each dimension in the admission phase. \n",
    "Several groups (subsets of the set of all admitted students) can thus be formed using this information. \n",
    "For example, *for each dimension* $d$ the college administration might form 3 groups based on *two threshold values*: \n",
    "- $L_d$ including students who score below the low threshold,\n",
    "- $M_d$ including students who score between the low threshold and the high threshold,\n",
    "- $H_d$ including students who score above the high threshold.\n",
    "\n",
    "For example, the thresholds could be chosen so that *half* students belong to the central $M$ group, while the $L$ and $M$ groups take $1/4$ of the students each. In fact, as it will become clear in the following, it is exactly by controlling the relative proportion of students from the different groups that the overall performance can be influenced.     \n",
    "\n",
    "By the above method, each student belongs to exacly one group for any dimension. In order to establish efficient predictors of a student's performance the college records &ndash; for each group within each dimension &ndash; the number of students who successfully graduated and the number of those who did not.\n",
    "\n",
    "The first goal the college is willing to achieve with this approach is being able to predict the chances of a candidate to graduate, given its scores along one or more dimensions. The second goal is to determine the optimal balance in the relative sizes of the $3$ groups (along each dimension) so that *use of the college capacity is maximized* without too many students failing to graduate. \n",
    "\n",
    "\n"
   ]
  },
  {
   "cell_type": "markdown",
   "metadata": {},
   "source": [
    "### Data Collection\n",
    "In order to apply probabilistic reasoning to this problem we start by assuming that the relative sizes of the $3$ groups (along each dimension $d$) are known. By concentrating on just one dimension (e.g. $d=1$), if $N$ is the total number of students who have been admitted, of which $N_X$ were assigned to the group $X$ based on their admission score relative to the $X$-th dimension, we have \n",
    "\n",
    "$$P(L) + P(M) + P(H) = 1$$  \n",
    "\n",
    "where $P(L) = N_L / N$, $P(M) = N_M / N$ and $P(H) = N_H / N$. \n",
    "\n",
    "That is, we are using relative sizes to estimate the *probability* for a student to belong to one of the $3$ mutually exclusive groups associated to the chosen dimension (e.g. *logical skills*).\n",
    "\n",
    "Other data to be recorded &ndash; for each group &ndash; are the number of students who graduated and the number of those who did not graduate. So we assume the following data to be also available\n",
    "\n",
    "$$N^{G}_{L}, N^{\\tilde{G}}_{L}; (N^{G}_{L} + N^{\\tilde{G}}_{L} = N_L)$$  \n",
    "$$N^{G}_{M}, N^{\\tilde{G}}_{M}; (N^{G}_{M} + N^{\\tilde{G}}_{M} = N_M)$$  \n",
    "$$N^{G}_{H}, N^{\\tilde{G}}_{H}; (N^{G}_{H} + N^{\\tilde{G}}_{H} = N_H)$$  \n",
    "\n",
    "\n"
   ]
  },
  {
   "cell_type": "markdown",
   "metadata": {},
   "source": [
    "### Conditional Probabilities\n",
    "\n",
    "From the above numbers we can evaluate the *conditional probability* that a student graduate (or that she quit without a grade) given that she belongs to a given group. Indeed \n",
    "\n",
    "$$P(G|L) = \\frac{P(G \\cap L)}{P(L)} = \\frac{N^{G}_{L}}{N} \\cdot \\frac{N}{N_L} = \\frac{N^{G}_{L}}{N_L}$$\n",
    "\n",
    "$$P(G|M) = \\frac{P(G \\cap M)}{P(M)} = \\frac{N^{G}_{M}}{N} \\cdot \\frac{N}{N_M} = \\frac{N^{G}_{M}}{N_M}$$\n",
    "\n",
    "$$P(G|H) = \\frac{P(G \\cap H)}{P(H)} = \\frac{N^{G}_{H}}{N} \\cdot \\frac{N}{N_H} = \\frac{N^{G}_{H}}{N_H}$$\n",
    "\n",
    "\n",
    "Similarly\n",
    "\n",
    "$$P(\\tilde{G}|L) = \\frac{N^{\\tilde{G}}_{L}}{N_L} = 1 - P(G|L)$$\n",
    "\n",
    "$$P(\\tilde{G}|M) = \\frac{N^{\\tilde{G}}_{M}}{N_M} = 1 - P(G|M)$$\n",
    "\n",
    "$$P(\\tilde{G}|H) = \\frac{N^{\\tilde{G}}_{N}}{N_H} = 1 - P(G|H)$$\n",
    "\n",
    "\n",
    "Given that $L$, $M$ and $H$ are mutually exclusive groups covering the whole sample space we also have \n",
    "\n",
    "$$P(G) =  P(G|L) + P(G|M) + P(G|H) = 1 - P(\\tilde{G})$$\n",
    "$$P(\\tilde{G}) = P(\\tilde{G}|L) + P(\\tilde{G}|M) + P(\\tilde{G}|H) = 1 - P(G)$$\n"
   ]
  },
  {
   "cell_type": "markdown",
   "metadata": {},
   "source": [
    "### Controls\n",
    "Conditional probabilities computed in the previous section do not seem to offer much opportunities for control by the college administration, apart from considering improvements in the effectiveness of teaching that could impact a student's ability to do better given the group she belongs to.\n",
    "\n",
    "The only remaining handles are the *probabilities* $P(L)$, $P(M)$ and $P(H)$, so the college would orient the selection process toward achieving high values for the percentage of students being recruited that qualify for the group $H$ or $M$, while containing the percentage of those falling in group $L$. \n"
   ]
  },
  {
   "cell_type": "code",
   "execution_count": null,
   "metadata": {},
   "outputs": [],
   "source": []
  }
 ],
 "metadata": {
  "kernelspec": {
   "display_name": "Julia 1.1.0",
   "language": "julia",
   "name": "julia-1.1"
  },
  "language_info": {
   "file_extension": ".jl",
   "mimetype": "application/julia",
   "name": "julia",
   "version": "1.1.0"
  }
 },
 "nbformat": 4,
 "nbformat_minor": 2
}
